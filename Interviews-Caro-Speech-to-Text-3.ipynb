{
 "cells": [
  {
   "cell_type": "code",
   "execution_count": 2,
   "metadata": {},
   "outputs": [],
   "source": [
    "filepath = \"Caro-Interviews/\"     #Input audio file path\n",
    "output_filepath = \"Caro-Transcrips-Audio-Text/\" #Final transcript path\n",
    "bucketname = \"voztext\" #Name of the bucket created in the step before\n",
    "audio_file_name = \"Aufnahme_Florian.wav\"\n",
    "#!pip install pydub\n",
    "#!pip install google-cloud-storage\n",
    "\n",
    "# Import libraries\n",
    "from pydub import AudioSegment\n",
    "import io\n",
    "import os\n",
    "from google.cloud import speech\n",
    "import wave\n",
    "from google.cloud import storage\n",
    "import time\n",
    "\n",
    "from google.cloud import storage\n",
    "# WARNING; WORKAROUND to prevent timeout for files > 6 MB on 800 kbps upload link.\n",
    "storage.blob._DEFAULT_CHUNKSIZE = 5 * 1024* 1024  # 50 MB\n",
    "storage.blob._MAX_MULTIPART_SIZE = 5 * 1024* 1024  # 50 MB"
   ]
  },
  {
   "cell_type": "code",
   "execution_count": 27,
   "metadata": {},
   "outputs": [
    {
     "name": "stdout",
     "output_type": "stream",
     "text": [
      "'Aufnahme Berit.MP3'\t'Aufnahme Franziska.MP3'  'Aufnahme Thomas.MP3'\r\n",
      "'Aufnahme Eric.MP3'\t'Aufnahme Leonie.MP3'\t   test1.wav\r\n",
      "'Aufnahme Florian.MP3'\t'Aufnahme Maren 1.MP3'\r\n"
     ]
    }
   ],
   "source": [
    "!ls Caro-Interviews/"
   ]
  },
  {
   "cell_type": "code",
   "execution_count": 3,
   "metadata": {},
   "outputs": [
    {
     "name": "stdout",
     "output_type": "stream",
     "text": [
      "automatic-rite-301117-93bb0ddbd62b.json\r\n"
     ]
    }
   ],
   "source": [
    "#credenciales googles para copyrigth\n",
    "os.environ[\"GOOGLE_APPLICATION_CREDENTIALS\"]= 'automatic-rite-301117-93bb0ddbd62b.json'   #ensure the path is set correctly\n",
    "!echo $GOOGLE_APPLICATION_CREDENTIALS"
   ]
  },
  {
   "cell_type": "code",
   "execution_count": null,
   "metadata": {},
   "outputs": [],
   "source": []
  },
  {
   "cell_type": "code",
   "execution_count": 4,
   "metadata": {},
   "outputs": [],
   "source": [
    "#Transforma el archivo de audio a texto \n",
    "def mp3_to_wav(audio_file_name):\n",
    "    if audio_file_name.split('.')[1] == 'mp3':    \n",
    "        sound = AudioSegment.from_mp3(audio_file_name)\n",
    "        audio_file_name = audio_file_name.split('.')[0] + '.wav'\n",
    "        sound.export(audio_file_name, format=\"wav\")"
   ]
  },
  {
   "cell_type": "code",
   "execution_count": 5,
   "metadata": {},
   "outputs": [],
   "source": [
    "#Transforma el archivo de audio de stereo a mono\n",
    "def frame_rate_channel(audio_file_name):\n",
    "    file_name = os.path.join(os.path.dirname('Caro-Interviews/'), 'Aufnahme_Berit.wav')\n",
    "    with wave.open(audio_file_name, \"rb\") as wave_file:\n",
    "        frame_rate = wave_file.getframerate()\n",
    "        channels = wave_file.getnchannels()\n",
    "        return frame_rate,channels"
   ]
  },
  {
   "cell_type": "code",
   "execution_count": 6,
   "metadata": {},
   "outputs": [],
   "source": [
    "#Charge files into google cloud bucket\n",
    "def upload_blob(bucket_name, source_file_name, destination_blob_name):\n",
    "    \"\"\"Uploads a file to the bucket.\"\"\"\n",
    "    storage_client = storage.Client()\n",
    "    bucket = storage_client.get_bucket(bucket_name)\n",
    "    blob = bucket.blob(destination_blob_name)\n",
    "\n",
    "    blob.upload_from_filename(source_file_name)"
   ]
  },
  {
   "cell_type": "code",
   "execution_count": 7,
   "metadata": {},
   "outputs": [],
   "source": [
    "#Delete files from google cloud bucket\n",
    "\n",
    "def delete_blob(bucket_name, blob_name):\n",
    "    \"\"\"Deletes a blob from the bucket.\"\"\"\n",
    "    storage_client = storage.Client()\n",
    "    bucket = storage_client.get_bucket(bucket_name)\n",
    "    blob = bucket.blob(blob_name)\n",
    "\n",
    "    blob.delete()"
   ]
  },
  {
   "cell_type": "code",
   "execution_count": 8,
   "metadata": {},
   "outputs": [],
   "source": [
    "file_name = filepath + audio_file_name\n"
   ]
  },
  {
   "cell_type": "code",
   "execution_count": 114,
   "metadata": {},
   "outputs": [],
   "source": [
    "\n",
    "file_name = filepath + audio_file_name\n",
    "mp3_to_wav(file_name)\n",
    "\n",
    "# The name of the audio file to transcribe\n",
    "    \n",
    "#frame_rate, channels = frame_rate_channel(\"Aufnahme_Berit.wav\")\n",
    "    \n",
    "if channels > 1:\n",
    "    frame_rate_channel(\"Aufnahme_Florian.wav\")\n",
    "    \n",
    "bucket_name = bucketname\n",
    "source_file_name = filepath + audio_file_name\n",
    "destination_blob_name = audio_file_name\n",
    "    \n",
    "upload_blob(bucket_name, source_file_name, destination_blob_name)\n",
    "    \n",
    "gcs_uri = 'gs://' + bucketname + '/' + audio_file_name\n",
    "transcript = ''\n",
    "    \n",
    "client = speech.SpeechClient()\n",
    "audio = speech.RecognitionAudio(uri=gcs_uri)\n",
    "\n",
    "config = speech.RecognitionConfig(\n",
    "encoding=speech.RecognitionConfig.AudioEncoding.LINEAR16,\n",
    "sample_rate_hertz=frame_rate,\n",
    "language_code='de-DE')\n",
    "\n",
    "# Detects speech in the audio file\n",
    "operation = client.long_running_recognize(config= config, audio= audio)\n",
    "response = operation.result(timeout=10000000)\n",
    "\n",
    "for result in response.results:\n",
    "    transcript += result.alternatives[0].transcript\n",
    "    #print(u\"Transcript: {}\".format(result.alternatives[0].transcript))\n",
    "    #print(\"Confidence: {}\".format(result.alternatives[0].confidence))\n",
    "    \n",
    "delete_blob(bucket_name, destination_blob_name)\n",
    "    "
   ]
  },
  {
   "cell_type": "code",
   "execution_count": 115,
   "metadata": {},
   "outputs": [],
   "source": [
    "transcript_filename=\"test8\"\n",
    "f= open(output_filepath + transcript_filename,\"w+\")\n",
    "f.write(transcript)\n",
    "f.close()"
   ]
  },
  {
   "cell_type": "code",
   "execution_count": 9,
   "metadata": {},
   "outputs": [],
   "source": [
    "from google.cloud import speech_v1p1beta1 as speech\n",
    "\n",
    "file_name = filepath + audio_file_name\n",
    "#mp3_to_wav(file_name)\n",
    "\n",
    "# The name of the audio file to transcribe\n",
    "    \n",
    "frame_rate, channels = frame_rate_channel(file_name)\n",
    "if channels > 1:\n",
    "        stereo_to_mono(file_name)\n",
    "    \n",
    "bucket_name = bucketname\n",
    "source_file_name = filepath + audio_file_name\n",
    "destination_blob_name = audio_file_name\n",
    "    \n",
    "upload_blob(bucket_name, source_file_name, destination_blob_name)\n",
    "    \n",
    "gcs_uri = 'gs://' + bucketname + '/' + audio_file_name\n",
    "transcript = ''\n",
    "    \n",
    "client = speech.SpeechClient()\n",
    "audio = speech.RecognitionAudio(uri=gcs_uri)\n",
    "\n",
    "config = speech.RecognitionConfig(\n",
    "    encoding=speech.RecognitionConfig.AudioEncoding.LINEAR16,\n",
    "    sample_rate_hertz=frame_rate,\n",
    "    language_code='de-DE',\n",
    "    enable_speaker_diarization=True,\n",
    "    diarization_speaker_count=2) #Changed\n",
    "\n",
    "    # Detects speech in the audio file\n",
    "operation = client.long_running_recognize(config = config, audio = audio)\n",
    "response = operation.result(timeout=10000)\n",
    "result = response.results[-1] #Changed\n",
    "words_info = result.alternatives[0].words #Changed\n",
    "    \n",
    "tag=1 #Changed\n",
    "speaker=\"\" #Changed\n",
    "\n",
    "for word_info in words_info: #Changed\n",
    "    if word_info.speaker_tag==tag: #Changed\n",
    "        speaker=speaker+\" \"+word_info.word #Changed\n",
    "    else: #Changed\n",
    "        transcript += \"speaker {}: {}\".format(tag,speaker) + '\\n' #Changed\n",
    "        tag=word_info.speaker_tag #Changed\n",
    "        speaker=\"\"+word_info.word #Changed\n",
    "transcript += \"speaker {}: {}\".format(tag,speaker) #Changed\n",
    "    \n",
    "delete_blob(bucket_name, destination_blob_name)\n",
    "    \n",
    "\n"
   ]
  },
  {
   "cell_type": "code",
   "execution_count": 10,
   "metadata": {},
   "outputs": [],
   "source": [
    "transcript_filename=\"Transcript-Florian\"\n",
    "f= open(output_filepath + transcript_filename,\"w+\")\n",
    "f.write(transcript)\n",
    "f.close()"
   ]
  }
 ],
 "metadata": {
  "kernelspec": {
   "display_name": "Python 3",
   "language": "python",
   "name": "python3"
  },
  "language_info": {
   "codemirror_mode": {
    "name": "ipython",
    "version": 3
   },
   "file_extension": ".py",
   "mimetype": "text/x-python",
   "name": "python",
   "nbconvert_exporter": "python",
   "pygments_lexer": "ipython3",
   "version": "3.7.6"
  },
  "varInspector": {
   "cols": {
    "lenName": 16,
    "lenType": 16,
    "lenVar": 40
   },
   "kernels_config": {
    "python": {
     "delete_cmd_postfix": "",
     "delete_cmd_prefix": "del ",
     "library": "var_list.py",
     "varRefreshCmd": "print(var_dic_list())"
    },
    "r": {
     "delete_cmd_postfix": ") ",
     "delete_cmd_prefix": "rm(",
     "library": "var_list.r",
     "varRefreshCmd": "cat(var_dic_list()) "
    }
   },
   "types_to_exclude": [
    "module",
    "function",
    "builtin_function_or_method",
    "instance",
    "_Feature"
   ],
   "window_display": false
  }
 },
 "nbformat": 4,
 "nbformat_minor": 4
}
